{
 "metadata": {
  "language_info": {
   "codemirror_mode": {
    "name": "ipython",
    "version": 3
   },
   "file_extension": ".py",
   "mimetype": "text/x-python",
   "name": "python",
   "nbconvert_exporter": "python",
   "pygments_lexer": "ipython3",
   "version": "3.7.8-final"
  },
  "orig_nbformat": 2,
  "kernelspec": {
   "name": "Python 3.7.8 64-bit ('ds37': conda)",
   "display_name": "Python 3.7.8 64-bit ('ds37': conda)",
   "metadata": {
    "interpreter": {
     "hash": "81f757bfa8175e0659021efce9ae51ccc1fb88a34513dcf941671e7a1b97c05e"
    }
   }
  }
 },
 "nbformat": 4,
 "nbformat_minor": 2,
 "cells": [
  {
   "cell_type": "code",
   "execution_count": 1,
   "metadata": {},
   "outputs": [],
   "source": [
    "import requests\n",
    "from IPython.display import Markdown\n",
    "\n",
    "import re\n",
    "import numpy as np\n",
    "import pandas as pd\n",
    "from datetime import datetime"
   ]
  },
  {
   "source": [
    "**Warning!** This is a soultion. If you are looking to do these \n",
    "           [Agile Geosciences](https://agilescientific.com/blog/2020/4/16/geoscientist-challenge-thyself) \n",
    "           challenges on your own then please visit this\n",
    "           [Jupyter Notebook](https://colab.research.google.com/drive/1eP68NTV-GA3R-BYUh-CUxcgYDQ5IuetS)\n",
    "           to get started.\n",
    "\n",
    "\n",
    "## Functions for URL requests\n",
    "First a few functions to use along the way..."
   ],
   "cell_type": "markdown",
   "metadata": {}
  },
  {
   "cell_type": "code",
   "execution_count": 2,
   "metadata": {},
   "outputs": [],
   "source": [
    "def get_data(url, key):\n",
    "    params = {'key':my_key}\n",
    "    r = requests.get(url, params)\n",
    "    return r.text\n",
    "\n",
    "def get_question(url):\n",
    "    r = requests.get(url)\n",
    "    return r.text\n",
    "\n",
    "def check_answer(questionNum,answer):\n",
    "    params = {'key':my_key,\n",
    "              'question':questionNum,\n",
    "              'answer':answer\n",
    "             }\n",
    "    result = requests.get(url, params)\n",
    "    return Markdown(result.text)"
   ]
  },
  {
   "source": [
    "## Request Challenge Description"
   ],
   "cell_type": "markdown",
   "metadata": {}
  },
  {
   "cell_type": "code",
   "execution_count": 3,
   "metadata": {},
   "outputs": [
    {
     "output_type": "execute_result",
     "data": {
      "text/plain": [
       "<IPython.core.display.Markdown object>"
      ],
      "text/markdown": "# Sample names\n\nYou have a set of sample names. They look like this:\n\n    001235_Ainsa_Sobrarbe_C_2016-04-20_PCx\n    ^^^^^^ ^^^^^ ^^^^^^^^ ^ ^^^^^^^^^^ ^^^\n      1      2      3     4      5      6\n\nA **valid name** consists of 6 parts separated by underscores. The parts are underlined, above. Note that the parts might not be correct or consistent. Having 6 parts, whether they are correct or not, is enough to be called 'valid'. There may be other problems, for example with the spelling or formatting of individual parts, but we will still call it 'valid'.\n\nThe 6 parts are:\n\n- **Unique identifier** consisting of 6 characters.\n- **Basin name.** Note that spellings are not guaranteed to be correct.\n- **Unit or Formation name.** Note that spellings are not guaranteed to be correct.\n- **Specimen type**, either H or C (hand or core).\n- **Date**, which must be in ISO 8601 YYYY-MM-DD format to be considered correct.\n- **Preparation codes** of at least one character.\n\nWe need to extract some information from this dataset.\n\n1. How many valid sample names are there?\n2. How many valid samples were taken in the Ainsa basin? Include records with misspelt basin names.\n3. What's the longest period of days with no valid samples taken in Ainsa?\n\nIf looking for misspellings, we'll assume that any word starting and ending in the same letters, but with the middle letters scrambled, is the same word. So 'Anisa' is a misspelling of 'Ainsa', but 'Aimsa' is not. We'll also assume that the spelling with the most occurrences is the correct spelling.\n\n\n## Example\n\nHere's some sample data:\n\n    001235_Ainsa_Sobrarbe_C_2016-04-20_PCx\n    001236_Ainsa_Sobrarbe_H_2016-04-21_P\n    001237_Anisa_Sobrarbe_H_2016-04-29_TCx\n    001238_Sorbas_Gochar_2017-06-03_PxM\n    001238_Sorbas_Gochar_C_2017-06-03_PxM\n    001240_SORBAS_Gochar_C_2017-06-03_PxM\n\nLet's answer the 3 questions for this sample dataset:\n\n- There are **5** valid names (and 1 invalid one, with no specimen type).\n- The Ainsa Basin appears in **3** sample names (including 1 misspelling).\n- There is a **7** day period with no samples taken, between 21 April and 29 April.\n\n\n## Hints\n\nIt's likely that the `datetime` library will be useful in answering question 3. In particular, this code is useful:\n\n    from datetime import datetime\n    datetime.fromisoformat('2016-07-03')\n    \nIf that command fails on a date, then you should consider the date format incorrect and ignore that record.\n\n\n## A quick reminder how this works\n\nYou can retrieve your data by choosing any Python string as a **`<KEY>`** and substituting here:\n    \n    https://kata.geosci.ai/challenge/sample-names?key=<KEY>\n                                                      ^^^^^\n                                                      use your own string here\n\nTo answer question 1, make a request like:\n\n    https://kata.geosci.ai/challenge/sample-names?key=<KEY>&question=1&answer=1234\n                                                      ^^^^^          ^        ^^^^\n                                                      your key       Q        your answer\n\n[Complete instructions at kata.geosci.ai](https://kata.geosci.ai/challenge)\n\n----\n\n© 2020 Agile Scientific, licensed CC-BY"
     },
     "metadata": {},
     "execution_count": 3
    }
   ],
   "source": [
    "url = 'https://kata.geosci.ai/challenge/sample-names' \n",
    "r = get_question(url)\n",
    "\n",
    "Markdown(r)"
   ]
  },
  {
   "source": [
    "## My solution\n",
    "\n",
    "Let's enter a seed phrase and get the data."
   ],
   "cell_type": "markdown",
   "metadata": {}
  },
  {
   "cell_type": "code",
   "execution_count": 4,
   "metadata": {},
   "outputs": [
    {
     "output_type": "execute_result",
     "data": {
      "text/plain": [
       "'000067_Ainsa_Sobrarbe_H_2000-01-01_P\\n000068_Ainsa_Sobrarbe_H_2000-01-02_TC\\n000069_Sorbas_Gochar_H_2000-01-02_PM\\n000070_Sorbas_Gochar_H_2000-01-02\\n000071_Sorbas_Gochar_H_2000-01-02_TC\\n000072_Sorbas_Gochar_H_2000-01-02_TM\\n000075_Sorbas_Gochar_H_2000-01-04_PTC\\n000077_Sorbas_Gohcar_C_2000-01-05_Cx\\n000078_Sorbas_GOCHAR_H_05-01-00_PTM\\n000079_Sorbas_Zorreras_H_2000-01-07_C\\n000080_Sorbas_Zorreras_H_2000-01-07_TCxM\\n000081_sorbas_Zorreras_H_2000-01-08_C\\n000082_Tremp_Tremp_H_2000-01-08_PTC\\n000083_Tremp_Pasraela_C_2000-01-08_PxM\\n000085_Tremp_Pasarela_C_2000-01-08_PTCx\\n000086_Tremp_Pasarela_H_2000-01-08_TCM\\n000090_Tremp_Pasarela_H_2000-01-08_xM\\n000092_Tremp_Pasarela_H_2000-01-09_C\\n000093_Tremp_Pasarela_H_2000-01-09_TCxM\\n000094_Asana_Lleida_H_2000-01-10_TCx\\n000095_Asana_Lleida_H_2000-01-11_C\\n000096_asana_Lleida_2000-01-11_PM\\n000097_asana_Lleida_H_2000-01-12_CM\\n000098_asana_MADRID_C_2000-01-12_C\\n000100_asana_Barcelona_C_2000-01-12_TCM\\n000101_asana_Bacrelona_2000-01-14_Cx\\n000102_asana_Madrid_C_2000-01'"
      ]
     },
     "metadata": {},
     "execution_count": 4
    }
   ],
   "source": [
    "my_key = 'armstrys'\n",
    "\n",
    "## Input\n",
    "r = get_data(url, my_key)\n",
    "\n",
    "r[:1000]"
   ]
  },
  {
   "source": [
    "## Processing into Pandas dataframe"
   ],
   "cell_type": "markdown",
   "metadata": {}
  },
  {
   "cell_type": "code",
   "execution_count": 5,
   "metadata": {},
   "outputs": [
    {
     "output_type": "stream",
     "name": "stdout",
     "text": [
      "First 10 rows of the dataframe:\n"
     ]
    },
    {
     "output_type": "execute_result",
     "data": {
      "text/plain": [
       "        ID Basin_Name    FmName SpecType        Date PrepCode\n",
       "0   000067      Ainsa  Sobrarbe        H  2000-01-01        P\n",
       "1   000068      Ainsa  Sobrarbe        H  2000-01-02       TC\n",
       "2   000069     Sorbas    Gochar        H  2000-01-02       PM\n",
       "4   000071     Sorbas    Gochar        H  2000-01-02       TC\n",
       "5   000072     Sorbas    Gochar        H  2000-01-02       TM\n",
       "6   000075     Sorbas    Gochar        H  2000-01-04      PTC\n",
       "7   000077     Sorbas    Gohcar        C  2000-01-05       CX\n",
       "8   000078     Sorbas    Gochar        H    05-01-00      PTM\n",
       "9   000079     Sorbas  Zorreras        H  2000-01-07        C\n",
       "10  000080     Sorbas  Zorreras        H  2000-01-07     TCXM"
      ],
      "text/html": "<div>\n<style scoped>\n    .dataframe tbody tr th:only-of-type {\n        vertical-align: middle;\n    }\n\n    .dataframe tbody tr th {\n        vertical-align: top;\n    }\n\n    .dataframe thead th {\n        text-align: right;\n    }\n</style>\n<table border=\"1\" class=\"dataframe\">\n  <thead>\n    <tr style=\"text-align: right;\">\n      <th></th>\n      <th>ID</th>\n      <th>Basin_Name</th>\n      <th>FmName</th>\n      <th>SpecType</th>\n      <th>Date</th>\n      <th>PrepCode</th>\n    </tr>\n  </thead>\n  <tbody>\n    <tr>\n      <th>0</th>\n      <td>000067</td>\n      <td>Ainsa</td>\n      <td>Sobrarbe</td>\n      <td>H</td>\n      <td>2000-01-01</td>\n      <td>P</td>\n    </tr>\n    <tr>\n      <th>1</th>\n      <td>000068</td>\n      <td>Ainsa</td>\n      <td>Sobrarbe</td>\n      <td>H</td>\n      <td>2000-01-02</td>\n      <td>TC</td>\n    </tr>\n    <tr>\n      <th>2</th>\n      <td>000069</td>\n      <td>Sorbas</td>\n      <td>Gochar</td>\n      <td>H</td>\n      <td>2000-01-02</td>\n      <td>PM</td>\n    </tr>\n    <tr>\n      <th>4</th>\n      <td>000071</td>\n      <td>Sorbas</td>\n      <td>Gochar</td>\n      <td>H</td>\n      <td>2000-01-02</td>\n      <td>TC</td>\n    </tr>\n    <tr>\n      <th>5</th>\n      <td>000072</td>\n      <td>Sorbas</td>\n      <td>Gochar</td>\n      <td>H</td>\n      <td>2000-01-02</td>\n      <td>TM</td>\n    </tr>\n    <tr>\n      <th>6</th>\n      <td>000075</td>\n      <td>Sorbas</td>\n      <td>Gochar</td>\n      <td>H</td>\n      <td>2000-01-04</td>\n      <td>PTC</td>\n    </tr>\n    <tr>\n      <th>7</th>\n      <td>000077</td>\n      <td>Sorbas</td>\n      <td>Gohcar</td>\n      <td>C</td>\n      <td>2000-01-05</td>\n      <td>CX</td>\n    </tr>\n    <tr>\n      <th>8</th>\n      <td>000078</td>\n      <td>Sorbas</td>\n      <td>Gochar</td>\n      <td>H</td>\n      <td>05-01-00</td>\n      <td>PTM</td>\n    </tr>\n    <tr>\n      <th>9</th>\n      <td>000079</td>\n      <td>Sorbas</td>\n      <td>Zorreras</td>\n      <td>H</td>\n      <td>2000-01-07</td>\n      <td>C</td>\n    </tr>\n    <tr>\n      <th>10</th>\n      <td>000080</td>\n      <td>Sorbas</td>\n      <td>Zorreras</td>\n      <td>H</td>\n      <td>2000-01-07</td>\n      <td>TCXM</td>\n    </tr>\n  </tbody>\n</table>\n</div>"
     },
     "metadata": {},
     "execution_count": 5
    }
   ],
   "source": [
    "samples = pd.Series(r.split('\\n')).str.title()\n",
    "samples_df = samples.str.split('_',expand=True).dropna()\n",
    "samples_df.columns = ['ID','Basin_Name','FmName','SpecType','Date','PrepCode']\n",
    "samples_df['PrepCode'] = samples_df['PrepCode'].str.upper()\n",
    "\n",
    "print('First 10 rows of the dataframe:')\n",
    "samples_df.head(10)\n"
   ]
  },
  {
   "source": [
    "## Question 1\n",
    "How many samples in the dataframe?"
   ],
   "cell_type": "markdown",
   "metadata": {}
  },
  {
   "cell_type": "code",
   "execution_count": 7,
   "metadata": {},
   "outputs": [
    {
     "output_type": "execute_result",
     "data": {
      "text/plain": [
       "<IPython.core.display.Markdown object>"
      ],
      "text/markdown": "There are **9125** valid samples.\n"
     },
     "metadata": {},
     "execution_count": 7
    }
   ],
   "source": [
    "answer1 = len(samples_df)\n",
    "\n",
    "Markdown(f'There are **{answer1}** valid samples.\\n')\n"
   ]
  },
  {
   "cell_type": "code",
   "execution_count": 8,
   "metadata": {},
   "outputs": [
    {
     "output_type": "execute_result",
     "data": {
      "text/plain": [
       "<IPython.core.display.Markdown object>"
      ],
      "text/markdown": "Correct"
     },
     "metadata": {},
     "execution_count": 8
    }
   ],
   "source": [
    "## Check\n",
    "questionNum = 1\n",
    "check_answer(questionNum,answer1)"
   ]
  },
  {
   "source": [
    "## Question 2\n",
    "To find all of the Ainsa Basin samples we will generate a function that will look for all matches of a word in the column including misspellings as described in the instructions."
   ],
   "cell_type": "markdown",
   "metadata": {}
  },
  {
   "cell_type": "code",
   "execution_count": 9,
   "metadata": {},
   "outputs": [
    {
     "output_type": "execute_result",
     "data": {
      "text/plain": [
       "<IPython.core.display.Markdown object>"
      ],
      "text/markdown": "There are **1507** valid samples in the Ainsa Basin.\n"
     },
     "metadata": {},
     "execution_count": 9
    }
   ],
   "source": [
    "def df_match(samples_df,colName,match):\n",
    "    '''\n",
    "    Subset dataframe to rows with a column matching a given string. Item can\n",
    "    be misspelled as long as first and last characters are correct and all letters\n",
    "    are present\n",
    "\n",
    "    Args:\n",
    "        samples_df (dataframe): Input dataframe.\n",
    "        colName (str): name of column to search for matches\n",
    "        match (str): String to match in column.\n",
    "\n",
    "    Returns:\n",
    "        df (dataframe): dataframe reduced to rows that match selected column.\n",
    "    '''\n",
    "\n",
    "    ## make a forgiving regex expression to match\n",
    "\n",
    "    firstChar, midChars, lastChar = match[0], match[1:-1], match[-1]\n",
    "\n",
    "    regExp = re.compile(f'({firstChar}'+ # match first char\n",
    "                        f'[{midChars}]{{{ len(midChars) }}}'+ # match mid chars in any order\n",
    "                        f'{lastChar})', re.IGNORECASE) # match last char\n",
    "\n",
    "    df = (samples_df.loc[samples_df[colName]\n",
    "                        .str.extract(regExp).dropna().index,:])\n",
    "    return df\n",
    "\n",
    "answer2 = len(df_match(samples_df,'Basin_Name','ainsa'))\n",
    "\n",
    "Markdown(f'There are **{answer2}** valid samples in the Ainsa Basin.\\n')\n",
    "\n"
   ]
  },
  {
   "cell_type": "code",
   "execution_count": 10,
   "metadata": {},
   "outputs": [
    {
     "output_type": "execute_result",
     "data": {
      "text/plain": [
       "<IPython.core.display.Markdown object>"
      ],
      "text/markdown": "Correct"
     },
     "metadata": {},
     "execution_count": 10
    }
   ],
   "source": [
    "## Check\n",
    "questionNum = 2\n",
    "check_answer(questionNum,answer2)"
   ]
  },
  {
   "source": [
    "## Question 3"
   ],
   "cell_type": "markdown",
   "metadata": {}
  },
  {
   "cell_type": "code",
   "execution_count": 11,
   "metadata": {},
   "outputs": [
    {
     "output_type": "execute_result",
     "data": {
      "text/plain": [
       "<IPython.core.display.Markdown object>"
      ],
      "text/markdown": "Longest gap between Ainsa Basin valid samples was **187** days.\n"
     },
     "metadata": {},
     "execution_count": 11
    }
   ],
   "source": [
    "def isodate(x):\n",
    "    ''' Check convert the date and null if cannot be converted.\n",
    "    '''\n",
    "    try:\n",
    "        return datetime.fromisoformat(x)\n",
    "    except ValueError:\n",
    "        return pd.NaT\n",
    "\n",
    "def longest_gap(samples_df):\n",
    "    '''\n",
    "    Find the longest gap (on the order of days) between samples in\n",
    "    the dataframe.\n",
    "    '''\n",
    "\n",
    "    samples_df['Date'] = samples_df['Date'].apply(lambda x: isodate(x))\n",
    "    samples_df = samples_df.loc[samples_df['Date']>datetime(1900,1,1)]\n",
    "\n",
    "    samples_df = samples_df.sort_values(by=['Date'], ascending=True).reset_index(drop=True)\n",
    "    samples_df['Days_SincePrev'] = samples_df['Date'].diff(1)\n",
    "    gap = max(samples_df['Days_SincePrev'].dropna()).days - 1\n",
    "    return gap\n",
    "df_ainsa = df_match(samples_df,'Basin_Name','ainsa')\n",
    "answer3 = int(longest_gap(df_ainsa))\n",
    "\n",
    "Markdown(f'Longest gap between Ainsa Basin valid samples was **{answer3}** days.\\n')\n",
    "\n"
   ]
  },
  {
   "cell_type": "code",
   "execution_count": 12,
   "metadata": {},
   "outputs": [
    {
     "output_type": "execute_result",
     "data": {
      "text/plain": [
       "<IPython.core.display.Markdown object>"
      ],
      "text/markdown": "Correct! The next challenge is: https://kata.geosci.ai/challenge/prospecting - good luck!"
     },
     "metadata": {},
     "execution_count": 12
    }
   ],
   "source": [
    "## Check\n",
    "questionNum = 3\n",
    "check_answer(questionNum,answer3)"
   ]
  }
 ]
}