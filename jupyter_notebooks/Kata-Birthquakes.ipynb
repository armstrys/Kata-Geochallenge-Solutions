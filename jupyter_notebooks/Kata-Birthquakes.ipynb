{
 "metadata": {
  "language_info": {
   "codemirror_mode": {
    "name": "ipython",
    "version": 3
   },
   "file_extension": ".py",
   "mimetype": "text/x-python",
   "name": "python",
   "nbconvert_exporter": "python",
   "pygments_lexer": "ipython3",
   "version": "3.7.8-final"
  },
  "orig_nbformat": 2,
  "kernelspec": {
   "name": "Python 3.7.8 64-bit ('ds37': conda)",
   "display_name": "Python 3.7.8 64-bit ('ds37': conda)",
   "metadata": {
    "interpreter": {
     "hash": "81f757bfa8175e0659021efce9ae51ccc1fb88a34513dcf941671e7a1b97c05e"
    }
   }
  }
 },
 "nbformat": 4,
 "nbformat_minor": 2,
 "cells": [
  {
   "cell_type": "code",
   "execution_count": 1,
   "metadata": {},
   "outputs": [],
   "source": [
    "import requests\n",
    "from IPython.display import Markdown\n",
    "\n",
    "import io\n",
    "import itertools\n",
    "import numpy as np\n",
    "import pandas as pd"
   ]
  },
  {
   "source": [
    "**Warning!** This is a soultion. If you are looking to do these \n",
    "           [Agile Geosciences](https://agilescientific.com/blog/2020/4/16/geoscientist-challenge-thyself) \n",
    "           challenges on your own then please visit this\n",
    "           [Jupyter Notebook](https://colab.research.google.com/drive/1eP68NTV-GA3R-BYUh-CUxcgYDQ5IuetS)\n",
    "           to get started."
   ],
   "cell_type": "markdown",
   "metadata": {}
  },
  {
   "cell_type": "code",
   "execution_count": 2,
   "metadata": {},
   "outputs": [],
   "source": [
    "def get_data(url, key):\n",
    "    params = {'key':my_key}\n",
    "    r = requests.get(url, params)\n",
    "    return r.text\n",
    "\n",
    "def get_question(url):\n",
    "    r = requests.get(url)\n",
    "    return r.text\n",
    "\n",
    "def check_answer(questionNum,answer):\n",
    "    params = {'key':my_key,\n",
    "              'question':questionNum,\n",
    "              'answer':answer\n",
    "             }\n",
    "    result = requests.get(url, params)\n",
    "    return result.text"
   ]
  },
  {
   "source": [
    "## Request Challenge Description"
   ],
   "cell_type": "markdown",
   "metadata": {}
  },
  {
   "cell_type": "code",
   "execution_count": 3,
   "metadata": {},
   "outputs": [
    {
     "output_type": "execute_result",
     "data": {
      "text/plain": [
       "<IPython.core.display.Markdown object>"
      ],
      "text/markdown": "# Birthquakes\n\nWe are going to look at earthquakes, on your birthdate. Birthquakes!\n\nWe will also be implementing the haversine formula for determining the distance between two ponts on the earth's surface.\n\nThis challenge is a bit different from the previous ones. You can use any old string for your key, as usual, but if you use a date, you'll get data for that date. For example:\n\n      url = 'https://kata.geosci.ai/challenge/birthquakes'\n      params = {'key': '1980-06-30'}  # <-- The key can be a date.\n      r = requests.get(url, params)\n\nYour challenge input is now `r.text`. There is a header row containing the names of the columns, plus a number of data rows or 'records'. Each row has 13 columns, and represents the data for a single earthquake.\n\nYou need to answer the following questions:\n\n1. How many records (i.e. earthquakes) are there?\n2. What is the depth **in metres** of the earthquake with the largest **Magnitude**? (If there's more than one, give the deepest.)\n3. What is the great circle distance **to the nearest km**, as given by the haversine formula, between the epicentres of the two **largest** earthquakes, as measured by magnitude?\n4. Consider all pairs of events. How many pairs are less than 100 km of each other? (Exactly 100 km would **not** be included.)\n\nNote that because we're asking about epicentres, so you don't need to worry about depth when calculating great circle distances.\n\nFor Question 4, only count unique pairs. For example, inthe diagram below there are 15 pairs of points altogether, of which there are 7 pairs with a mutual distance of < 100 km here &mdash; 1 pair on the left and 6 on the right:\n\n      \n      x                  x\n                            x\n         x              x  x\n            ==========\n              100 km\n\n\n## Haversine formula\n\nThere are several formulas for computing [great circle distance](https://en.wikipedia.org/wiki/Great-circle_distance) on a sphere. The simplest accurate one is the haversine formula, which is described here.\n\nGiven two points with (_latitude_, _longitude_), we'll denote point 1 with $(\\varphi_1, \\lambda_1)$ and point 2 with $(\\varphi_2, \\lambda_2)$. Then distance _d_ is related to radius _r_ by:\n\n$$   d  = 2r \\arcsin\\left(\\sqrt{\\sin^2\\left(\\frac{\\varphi_2 - \\varphi_1}{2}\\right) + \\cos(\\varphi_1) \\cos(\\varphi_2)\\sin^2\\left(\\frac{\\lambda_2 - \\lambda_1}{2}\\right)}\\right)$$\n\nSome hints about implementing this in Python:\n\n- Use $r = 6371\\ \\mathrm{km}$ for the radius of the earth.\n- $\\sin^2(x)$ means $\\sin(x) \\times \\sin(x)$.\n- Both the `math` module and NumPy have the functions `sin()`, `cos()`; these functions expect radians, so an angle in degrees must be converted to radians with `radians()` before giving it to the function.\n- The arcsine function in `math` is called `asin()`; in NumPy it's `arcsin()`.\n- The function should return distances **to the nearest km**.\n- You should get the following results from your function:\n  - The distance from (0, 0) to (0, 1) is 111 km.\n  - The distance from (0, 2.35) to (90, 2.35) is 10008 km. [(Why?)](https://en.wikipedia.org/wiki/History_of_the_metre)\n  - The distance from (44.65, -63.58) to (53.73, -1.86) is 4448 km.\n\n\n## A quick reminder how this works\n\nYou can retrieve your data by choosing any date (or any old Python string to choose a random date) as a **`<KEY>`** and substituting here:\n    \n    https://kata.geosci.ai/challenge/birthquakes?key=<KEY>\n                                                     ^^^^^\n                                                     you can use a date, e.g. 2001-01-01\n\nTo answer question 1, make a request like:\n\n    https://kata.geosci.ai/challenge/birthquakes?key=<KEY>&question=1&answer=123\n                                                     ^^^^^          ^        ^^^\n                                                     your key       Q        your answer\n\n[Complete instructions at kata.geosci.ai](https://kata.geosci.ai/challenge)\n\n----\n\n© 2020 Agile Scientific, licensed CC-BY"
     },
     "metadata": {},
     "execution_count": 3
    }
   ],
   "source": [
    "url = 'https://kata.geosci.ai/challenge/birthquakes' \n",
    "r = get_question(url)\n",
    "\n",
    "Markdown(r)"
   ]
  },
  {
   "source": [
    "## My solution\n",
    "\n",
    "For this challenge, the data will come from a date if entered in the same format as the date below. Feel free to change it to check the consistency of answers!"
   ],
   "cell_type": "markdown",
   "metadata": {}
  },
  {
   "cell_type": "code",
   "execution_count": 4,
   "metadata": {},
   "outputs": [
    {
     "output_type": "execute_result",
     "data": {
      "text/plain": [
       "'#EventID|Time|Latitude|Longitude|Depth/km|Author|Catalog|Contributor|ContributorID|MagType|Magnitude|MagAuthor|EventLocationName\\nusp0004dzs|1990-08-27T23:59:48.120|59.71|-152.799|88.7|ags|us|us|usp0004dzs|||us|Southern Alaska\\nuu50052925|1990-08-27T23:58:29.860|41.9908333|-111.9688333|0.23|uu|uu|uu|uu50052925|md|1.34|uu|Utah\\nuu50052920|1990-08-27T23:56:41.670|41.993|-111.974|2.8|uu|uu|uu|uu50052920|md|1.47|uu|Utah\\nak990aznfv39|1990-08-27T23:51:08.210|63.1598|-150.7097|129.9|ak|ak|ak|ak990aznfv39|ml|3|ak|66 km SE of Denali National Park, Alaska\\nuu50052915|1990-08-27T23:45:28.950|41.991|-111.974|0.8|uu|uu|uu|uu50052915|md|1.19|uu|Utah\\nnc1179798|1990-08-27T23:30:42.180|37.6746667|-118.8746667|3.006|nc|nc|nc|nc1179798|md|0.85|nc|Long Valley area, California\\nci2003577|1990-08-27T23:30:27.480|33.236|-117.173|-0.781|ci|ci|ci|ci2003577|||ci|8km ENE of Vista, CA\\nusp0004dzq|1990-08-27T23:27:34.350|-31.905|-72.189|33|us|us|us|usp0004dzq|||us|offshore Coquimbo, Chile\\nusp0004dzp|1990-08-27T23:24:42.'"
      ]
     },
     "metadata": {},
     "execution_count": 4
    }
   ],
   "source": [
    "my_key = '1990-08-27'\n",
    "\n",
    "## Input\n",
    "r = get_data(url, my_key)\n",
    "\n",
    "r[:1000]"
   ]
  },
  {
   "cell_type": "code",
   "execution_count": 5,
   "metadata": {},
   "outputs": [
    {
     "output_type": "execute_result",
     "data": {
      "text/plain": [
       "        EventID                     Time   Latitude   Longitude  Depth/km  \\\n",
       "0    usp0004dzs  1990-08-27T23:59:48.120  59.710000 -152.799000     88.70   \n",
       "1    uu50052925  1990-08-27T23:58:29.860  41.990833 -111.968833      0.23   \n",
       "2    uu50052920  1990-08-27T23:56:41.670  41.993000 -111.974000      2.80   \n",
       "3  ak990aznfv39  1990-08-27T23:51:08.210  63.159800 -150.709700    129.90   \n",
       "4    uu50052915  1990-08-27T23:45:28.950  41.991000 -111.974000      0.80   \n",
       "\n",
       "  Author Catalog Contributor ContributorID MagType  Magnitude MagAuthor  \\\n",
       "0    ags      us          us    usp0004dzs     NaN        NaN        us   \n",
       "1     uu      uu          uu    uu50052925      md       1.34        uu   \n",
       "2     uu      uu          uu    uu50052920      md       1.47        uu   \n",
       "3     ak      ak          ak  ak990aznfv39      ml       3.00        ak   \n",
       "4     uu      uu          uu    uu50052915      md       1.19        uu   \n",
       "\n",
       "                          EventLocationName  \n",
       "0                           Southern Alaska  \n",
       "1                                      Utah  \n",
       "2                                      Utah  \n",
       "3  66 km SE of Denali National Park, Alaska  \n",
       "4                                      Utah  "
      ],
      "text/html": "<div>\n<style scoped>\n    .dataframe tbody tr th:only-of-type {\n        vertical-align: middle;\n    }\n\n    .dataframe tbody tr th {\n        vertical-align: top;\n    }\n\n    .dataframe thead th {\n        text-align: right;\n    }\n</style>\n<table border=\"1\" class=\"dataframe\">\n  <thead>\n    <tr style=\"text-align: right;\">\n      <th></th>\n      <th>EventID</th>\n      <th>Time</th>\n      <th>Latitude</th>\n      <th>Longitude</th>\n      <th>Depth/km</th>\n      <th>Author</th>\n      <th>Catalog</th>\n      <th>Contributor</th>\n      <th>ContributorID</th>\n      <th>MagType</th>\n      <th>Magnitude</th>\n      <th>MagAuthor</th>\n      <th>EventLocationName</th>\n    </tr>\n  </thead>\n  <tbody>\n    <tr>\n      <th>0</th>\n      <td>usp0004dzs</td>\n      <td>1990-08-27T23:59:48.120</td>\n      <td>59.710000</td>\n      <td>-152.799000</td>\n      <td>88.70</td>\n      <td>ags</td>\n      <td>us</td>\n      <td>us</td>\n      <td>usp0004dzs</td>\n      <td>NaN</td>\n      <td>NaN</td>\n      <td>us</td>\n      <td>Southern Alaska</td>\n    </tr>\n    <tr>\n      <th>1</th>\n      <td>uu50052925</td>\n      <td>1990-08-27T23:58:29.860</td>\n      <td>41.990833</td>\n      <td>-111.968833</td>\n      <td>0.23</td>\n      <td>uu</td>\n      <td>uu</td>\n      <td>uu</td>\n      <td>uu50052925</td>\n      <td>md</td>\n      <td>1.34</td>\n      <td>uu</td>\n      <td>Utah</td>\n    </tr>\n    <tr>\n      <th>2</th>\n      <td>uu50052920</td>\n      <td>1990-08-27T23:56:41.670</td>\n      <td>41.993000</td>\n      <td>-111.974000</td>\n      <td>2.80</td>\n      <td>uu</td>\n      <td>uu</td>\n      <td>uu</td>\n      <td>uu50052920</td>\n      <td>md</td>\n      <td>1.47</td>\n      <td>uu</td>\n      <td>Utah</td>\n    </tr>\n    <tr>\n      <th>3</th>\n      <td>ak990aznfv39</td>\n      <td>1990-08-27T23:51:08.210</td>\n      <td>63.159800</td>\n      <td>-150.709700</td>\n      <td>129.90</td>\n      <td>ak</td>\n      <td>ak</td>\n      <td>ak</td>\n      <td>ak990aznfv39</td>\n      <td>ml</td>\n      <td>3.00</td>\n      <td>ak</td>\n      <td>66 km SE of Denali National Park, Alaska</td>\n    </tr>\n    <tr>\n      <th>4</th>\n      <td>uu50052915</td>\n      <td>1990-08-27T23:45:28.950</td>\n      <td>41.991000</td>\n      <td>-111.974000</td>\n      <td>0.80</td>\n      <td>uu</td>\n      <td>uu</td>\n      <td>uu</td>\n      <td>uu50052915</td>\n      <td>md</td>\n      <td>1.19</td>\n      <td>uu</td>\n      <td>Utah</td>\n    </tr>\n  </tbody>\n</table>\n</div>"
     },
     "metadata": {},
     "execution_count": 5
    }
   ],
   "source": [
    "## read text to pandas\n",
    "data = pd.read_csv(io.StringIO(r),sep='|') #load text to pandas\n",
    "\n",
    "## Strip comment character out of headers\n",
    "cols = data.columns\n",
    "data.columns = [c.strip('#') for c in cols] # strip comment characters out of columns\n",
    "data.head()"
   ]
  },
  {
   "source": [
    "## Question 1\n",
    "How many records do we have?"
   ],
   "cell_type": "markdown",
   "metadata": {}
  },
  {
   "cell_type": "code",
   "execution_count": 10,
   "metadata": {},
   "outputs": [
    {
     "output_type": "stream",
     "name": "stdout",
     "text": [
      "There are 171 samples.\n",
      "\n",
      "Your answer is correct!\n"
     ]
    }
   ],
   "source": [
    "answer1 = len(data)\n",
    "print(f'There are {answer1} samples.\\n')\n",
    "\n",
    "## Check\n",
    "questionNum = 1\n",
    "result = check_answer(questionNum,answer1)\n",
    "print(f'Your answer is {result.lower()}!')"
   ]
  },
  {
   "source": [
    "## Question 2\n",
    "What is the depth of the largest earthquake?"
   ],
   "cell_type": "markdown",
   "metadata": {}
  },
  {
   "cell_type": "code",
   "execution_count": 11,
   "metadata": {},
   "outputs": [
    {
     "output_type": "stream",
     "name": "stdout",
     "text": [
      "The depth of the largest earthquake was 506400 m.\n",
      "\n",
      "Your answer is correct!\n"
     ]
    }
   ],
   "source": [
    "## Sort by magnitude and depth to make sure we match the right criteria\n",
    "data.sort_values(by=['Magnitude','Depth/km'], ascending=False, inplace=True)\n",
    "\n",
    "## Pull the top record and get the depth in meters.\n",
    "depth = data.iloc[0]['Depth/km']*1e3\n",
    "answer2 = round(depth)\n",
    "print(f'The depth of the largest earthquake was {answer2} m.\\n')\n",
    "\n",
    "## Check\n",
    "questionNum = 2\n",
    "result = check_answer(questionNum,answer2)\n",
    "print(f'Your answer is {result.lower()}!')"
   ]
  },
  {
   "source": [
    "## Question 3\n",
    "Now we will define the Haversin formula. We then use this formula to calculate the distance between the two largest earthquakes from the datafrane we sorted in question 2."
   ],
   "cell_type": "markdown",
   "metadata": {}
  },
  {
   "cell_type": "code",
   "execution_count": 15,
   "metadata": {},
   "outputs": [
    {
     "output_type": "stream",
     "name": "stdout",
     "text": [
      "The two largest earthquakes were 171 km apart.\n",
      "\n",
      "Your answer is correct!\n"
     ]
    }
   ],
   "source": [
    "def haversine(loc1, loc2, r=6371.0):\n",
    "    '''\n",
    "    Takes lat/lons in degrees and gives the distance between two points in km.\n",
    "    '''\n",
    "    lat1, lon1 = np.radians(loc1.astype(float))\n",
    "    lat2, lon2 = np.radians(loc2.astype(float))\n",
    "    a = np.sin((lat2-lat1)/2)**2\n",
    "    b = np.cos(lat1)*np.cos(lat2)*np.sin((lon2-lon1)/2)**2\n",
    "    d = 2*r*np.arcsin(np.sqrt(a+b))\n",
    "    return round(d)\n",
    "\n",
    "loc1 = data.iloc[0][['Latitude','Longitude']].values\n",
    "loc2 = data.iloc[1][['Latitude','Longitude']].values\n",
    "answer3 = int(haversine(loc1, loc2))\n",
    "\n",
    "print(f'The two largest earthquakes were {answer1} km apart.\\n')\n",
    "\n",
    "## Check\n",
    "questionNum = 3\n",
    "result = check_answer(questionNum,answer3)\n",
    "print(f'Your answer is {result.lower()}!')"
   ]
  },
  {
   "source": [
    "## Question 4\n",
    "Lastly, let's check how many pairs of earthquakes were within 100 km of each other on this day."
   ],
   "cell_type": "markdown",
   "metadata": {}
  },
  {
   "cell_type": "code",
   "execution_count": 16,
   "metadata": {},
   "outputs": [
    {
     "output_type": "stream",
     "name": "stdout",
     "text": [
      "741 pairs of earthquakes were within 100 km of eachother.\n",
      "\n",
      "Your answer is correct! the next challenge is: https://kata.geosci.ai/challenge/fossil-hunting - good luck!!\n"
     ]
    }
   ],
   "source": [
    "count = 0\n",
    "comb = itertools.combinations(data.loc[:,['Latitude','Longitude']].values,2)\n",
    "\n",
    "for loc1, loc2 in comb:\n",
    "    if haversine(loc1,loc2) < 100:\n",
    "        count += 1\n",
    "\n",
    "answer4 = int(count)\n",
    "\n",
    "print(f'{answer4} pairs of earthquakes were within 100 km of eachother.\\n')\n",
    "\n",
    "## Check\n",
    "questionNum = 4\n",
    "result = check_answer(questionNum,answer4)\n",
    "print(f'Your answer is {result.lower()}!')"
   ]
  },
  {
   "cell_type": "code",
   "execution_count": null,
   "metadata": {},
   "outputs": [],
   "source": []
  }
 ]
}