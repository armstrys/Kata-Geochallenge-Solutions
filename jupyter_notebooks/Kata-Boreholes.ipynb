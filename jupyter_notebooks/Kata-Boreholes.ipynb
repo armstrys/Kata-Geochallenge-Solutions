{
 "metadata": {
  "language_info": {
   "codemirror_mode": {
    "name": "ipython",
    "version": 3
   },
   "file_extension": ".py",
   "mimetype": "text/x-python",
   "name": "python",
   "nbconvert_exporter": "python",
   "pygments_lexer": "ipython3",
   "version": "3.7.8-final"
  },
  "orig_nbformat": 2,
  "kernelspec": {
   "name": "Python 3.7.8 64-bit ('ds37': conda)",
   "display_name": "Python 3.7.8 64-bit ('ds37': conda)",
   "metadata": {
    "interpreter": {
     "hash": "81f757bfa8175e0659021efce9ae51ccc1fb88a34513dcf941671e7a1b97c05e"
    }
   }
  }
 },
 "nbformat": 4,
 "nbformat_minor": 2,
 "cells": [
  {
   "cell_type": "code",
   "execution_count": 1,
   "metadata": {},
   "outputs": [],
   "source": [
    "import requests\n",
    "from IPython.display import Markdown\n",
    "\n",
    "import re\n",
    "import itertools\n",
    "import numpy as np"
   ]
  },
  {
   "source": [
    "**Warning!** This is a soultion. If you are looking to do these \n",
    "           [Agile Geosciences](https://agilescientific.com/blog/2020/4/16/geoscientist-challenge-thyself) \n",
    "           challenges on your own then please visit this\n",
    "           [Jupyter Notebook](https://colab.research.google.com/drive/1eP68NTV-GA3R-BYUh-CUxcgYDQ5IuetS)\n",
    "           to get started.\n",
    "\n",
    "\n",
    "## Functions for URL requests\n",
    "First a few functions to use along the way..."
   ],
   "cell_type": "markdown",
   "metadata": {}
  },
  {
   "cell_type": "code",
   "execution_count": 2,
   "metadata": {},
   "outputs": [],
   "source": [
    "def get_data(url, key):\n",
    "    params = {'key':my_key}\n",
    "    r = requests.get(url, params)\n",
    "    return r.text\n",
    "\n",
    "def get_question(url):\n",
    "    r = requests.get(url)\n",
    "    return r.text\n",
    "\n",
    "def check_answer(questionNum,answer):\n",
    "    params = {'key':my_key,\n",
    "              'question':questionNum,\n",
    "              'answer':answer\n",
    "             }\n",
    "    result = requests.get(url, params)\n",
    "    return result.text"
   ]
  },
  {
   "source": [
    "## Request Challenge Description"
   ],
   "cell_type": "markdown",
   "metadata": {}
  },
  {
   "cell_type": "code",
   "execution_count": 3,
   "metadata": {},
   "outputs": [
    {
     "output_type": "execute_result",
     "data": {
      "text/plain": [
       "<IPython.core.display.Markdown object>"
      ],
      "text/markdown": "# Boreholes\n\nYou have a list of boreholes. Each one has an (x, y) location. The locations are given as a Python string, and look like this:\n\n    ..., (12.1, 34.3), (56.5, 78.7), (90.9, 12.1),...\n    \nYour data, when you receive it, will be longer than this.\n    \nWe're going to analyse these locations. We need the answers to the following questions:\n\n1. How many boreholes are there? We'll call this number _n_.\n2. What's the distance, **to the nearest metre** between the first two boreholes in the list?\n3. What is the mean straight-line distance between all pairs of boreholes **to the nearest metre**? Call this _m_.\n4. There is a clump of boreholes. How many boreholes are in the clump? (A borehole is defined to be in a clump if the mean distance to its nearest _n_ / 5 neighbours is _m_ / 4 or less.)\n\nPlease note that all your answers must be integers. If you get a float for an answer, round it.\n\n\n## Example\n\nHere are the locations of some boreholes:\n\n      (1, 4), (5, 4), (9, 3), (2, 8), (6, 4), (9, 9), (5, 5), (4, 3), (4, 5), (2, 1)\n      \nIf we plot them, they look like this:\n\n    y\n    ^\n    9 - - - - - - - - - 0\n    8 - - 0 - - - - - - -\n    7 - - - - - - - - - -\n    6 - - - - - - - - - -\n    5 - - - - 0 0 - - - -\n    4 - 0 - - - 0 0 - - -\n    3 - - - - 0 - - - - 0\n    2 - - - - - - - - - -\n    1 - - 0 - - - - - - -\n    0 - - - - - - - - - -\n      0 1 2 3 4 5 6 7 8 9 > x\n    \nHere's how we'd answer the questions for this small dataset:\n\n- In this example, there are **10** wells (marked `0` on the plot above).\n- The distance between the first two boreholes in the list, (1, 4) and (5, 4), is **4**.\n- The mean distance between boreholes is 4.58... which to the nearest metre is **5**.\n- There are **4** wells in the clump. See below.\n\nWells in the clump are marked `X` here (the borehole marked `O` does not meet the criterion):\n\n    y\n    ^\n    9 - - - - - - - - - 0\n    8 - - 0 - - - - - - -\n    7 - - - - - - - - - -\n    6 - - - - - - - - - -\n    5 - - - - X X - - - -\n    4 - 0 - - - X X - - -\n    3 - - - - O - - - - 0\n    2 - - - - - - - - - -\n    1 - - 0 - - - - - - -\n    0 - - - - - - - - - -\n      0 1 2 3 4 5 6 7 8 9 > x\n\n\n## A quick reminder how this works\n\nYou can retrieve your data by choosing any Python string as a **`<KEY>`** and substituting here:\n    \n    https://kata.geosci.ai/challenge/boreholes?key=<KEY>\n                                                   ^^^^^\n                                                   use your own string here\n\nTo answer question 1, make a request like:\n\n    https://kata.geosci.ai/challenge/boreholes?key=<KEY>&question=1&answer=1234\n                                                   ^^^^^          ^        ^^^^\n                                                   your key       Q        your answer\n\n[Complete instructions at kata.geosci.ai](https://kata.geosci.ai/challenge)\n\n----\n\n© 2020 Agile Scientific, licensed CC-BY"
     },
     "metadata": {},
     "execution_count": 3
    }
   ],
   "source": [
    "url = 'https://kata.geosci.ai/challenge/boreholes' \n",
    "r = get_question(url)\n",
    "\n",
    "Markdown(r)"
   ]
  },
  {
   "source": [
    "## My solution\n",
    "\n",
    "Let's enter a seed phrase and get the data."
   ],
   "cell_type": "markdown",
   "metadata": {}
  },
  {
   "cell_type": "code",
   "execution_count": 4,
   "metadata": {},
   "outputs": [
    {
     "output_type": "execute_result",
     "data": {
      "text/plain": [
       "'(2269.98, 8363.1), (2849.86, 11984.2), (3755.78, 1237.35), (4519.45, 2194.88), (21136.84, 4414.17), (4036.98, 22688.91), (7320.03, 19218.4), (5886.19, 2726.28), (5170.13, 5276.42), (13195.08, 4954.25), (18490.19, 12699.52), (4442.62, 5062.02), (24969.76, 22470.84), (19755.23, 11811.29), (5854.66, 4121.88), (12132.53, 3167.46), (5745.32, 4277.12), (17631.58, 15221.84), (18708.8, 3330.9), (7065.91, 5432.68), (15431.77, 772.07), (3905.25, 3751.2), (3282.77, 1435.17), (6522.95, 3834.09), (24496.22, 246.77), (18258.67, 1412.23), (2233.48, 12986.24), (11693.8, 12318.72), (9507.82, 3981.35), (13953.97, 18100.89), (4599.58, 1144.23), (16913.75, 17182.38), (5577.41, 19368.72), (24923.87, 16183.78), (2929.49, 5521.66), (7728.52, 3436.43), (1945.08, 12396.35), (8369.58, 9317.44), (276.54, 1123.47), (23045.73, 17061.15), (2352.93, 24881.91), (5586.28, 7208.26), (4703.2, 22305.87), (18572.32, 12190.91), (13510.96, 21322.06), (16503.18, 554.36), (22402.0, 15547.56), (798.99, 4841.3), (21417.57, 1081'"
      ]
     },
     "metadata": {},
     "execution_count": 4
    }
   ],
   "source": [
    "my_key = 'armstrys'\n",
    "\n",
    "## Input\n",
    "r = get_data(url, my_key)\n",
    "\n",
    "r[:1000]"
   ]
  },
  {
   "source": [
    "## Formatting the string of data\n",
    "Our text is very conveniently written in python-friendly syntax. We can directly evaluate the text using `eval()` to form couples and then cast to a numpy array."
   ],
   "cell_type": "markdown",
   "metadata": {}
  },
  {
   "cell_type": "code",
   "execution_count": 6,
   "metadata": {},
   "outputs": [
    {
     "output_type": "execute_result",
     "data": {
      "text/plain": [
       "array([[ 2269.98,  8363.1 ],\n",
       "       [ 2849.86, 11984.2 ],\n",
       "       [ 3755.78,  1237.35],\n",
       "       [ 4519.45,  2194.88],\n",
       "       [21136.84,  4414.17]])"
      ]
     },
     "metadata": {},
     "execution_count": 6
    }
   ],
   "source": [
    "## read to array\n",
    "boreholes = np.array(eval(r))\n",
    "\n",
    "boreholes[:5,:]"
   ]
  },
  {
   "source": [
    "## Question 1\n",
    "How many boreholes do we have? Let's take the length."
   ],
   "cell_type": "markdown",
   "metadata": {}
  },
  {
   "cell_type": "code",
   "execution_count": 9,
   "metadata": {},
   "outputs": [
    {
     "output_type": "stream",
     "name": "stdout",
     "text": [
      "There are 555 boreholes.\n\nYour answer is correct!\n"
     ]
    }
   ],
   "source": [
    "answer1 = len(boreholes)\n",
    "print(f'There are {answer1} boreholes.\\n')\n",
    "\n",
    "## Check\n",
    "questionNum = 1\n",
    "result = check_answer(questionNum,answer1)\n",
    "print(f'Your answer is {result.lower()}!')"
   ]
  },
  {
   "source": [
    "## Question 2\n",
    "To get the distance between the first two boreholes we will create a simple function to calculate the distance given our boreholes list and two IDs."
   ],
   "cell_type": "markdown",
   "metadata": {}
  },
  {
   "cell_type": "code",
   "execution_count": 13,
   "metadata": {},
   "outputs": [
    {
     "output_type": "stream",
     "name": "stdout",
     "text": [
      "The distance between the first two boreholes is ~3667 m.\n\nYour answer is correct!\n"
     ]
    }
   ],
   "source": [
    "def distance(boreholes,bID1,bID2):\n",
    "    borehole1 = boreholes[bID1] \n",
    "    borehole2 = boreholes[bID2]\n",
    "    d = np.sqrt(np.sum((borehole1 - borehole2)**2))\n",
    "    return d\n",
    "\n",
    "answer2 = int(round(distance(boreholes,0,1)))\n",
    "print(f'The distance between the first two boreholes is ~{answer2} m.\\n')\n",
    "\n",
    "## Check\n",
    "questionNum = 2\n",
    "result = check_answer(questionNum,answer2)\n",
    "print(f'Your answer is {result.lower()}!')"
   ]
  },
  {
   "source": [
    "## Question 3\n",
    "Glad we created the function above! We will create a new function to loop through all combinations of borehole pairs and calculate a mean distance."
   ],
   "cell_type": "markdown",
   "metadata": {}
  },
  {
   "cell_type": "code",
   "execution_count": 16,
   "metadata": {},
   "outputs": [
    {
     "output_type": "stream",
     "name": "stdout",
     "text": [
      "The mean distance between boreholes is 12854 m.\n",
      "\n",
      "Your answer is correct!\n"
     ]
    }
   ],
   "source": [
    "\n",
    "def mean_distance(boreholes):\n",
    "    '''\n",
    "    Calculates mean distance between boreholes.\n",
    "\n",
    "    Args:\n",
    "        boreholes (array): the coordinate array of the boreholes - our data.\n",
    "    \n",
    "    Returns:\n",
    "        meanDist (float): mean distance of all well coordinates listed in boreholes.\n",
    "\n",
    "    '''\n",
    "    distances = []\n",
    "    comb = itertools.combinations(list(range(len(boreholes))),2)\n",
    "    comb, comb_count = itertools.tee(comb)\n",
    "    numComb = sum(1 for ignore in comb_count)\n",
    "\n",
    "    for _, pair in enumerate(comb):\n",
    "        x, y = pair\n",
    "        distances.append(distance(boreholes,x,y))\n",
    "\n",
    "    meanDist = np.mean(distances)\n",
    "\n",
    "    return meanDist\n",
    "\n",
    "answer3 = int(round(mean_distance(boreholes)))\n",
    "print(f'The mean distance between boreholes is {answer3} m.\\n')\n",
    "\n",
    "## Check\n",
    "questionNum = 3\n",
    "result = check_answer(questionNum,answer3)\n",
    "print(f'Your answer is {result.lower()}!')"
   ]
  },
  {
   "source": [
    "## Question 4\n",
    "Time to find some clumps of boreholes! The method below is likely not the most efficient, but it will get the job done. The function loops through all possible combination of boreholes i and j. We then check the closest boreholes to see how many of them are close enough and whether the well is considered to be in a clump."
   ],
   "cell_type": "markdown",
   "metadata": {}
  },
  {
   "cell_type": "code",
   "execution_count": 17,
   "metadata": {},
   "outputs": [
    {
     "output_type": "stream",
     "name": "stdout",
     "text": [
      "There are 142 wells that are considered in a clump.\n",
      "\n",
      "Your answer is correct! the next challenge is: https://kata.geosci.ai/challenge/sample-names - good luck!!\n"
     ]
    }
   ],
   "source": [
    "def flag_clump(boreholes, number, distance_thresh):\n",
    "    '''\n",
    "    Determine whether each well is in a clump as defined by a distance threshold\n",
    "    for a certain number of neighboring wells to be within.\n",
    "\n",
    "    Args:\n",
    "        boreholes (array): the coordinate array of the boreholes - our data.\n",
    "        number (int): number of wells that need to be within x distance to\n",
    "            be considered a neighbor.\n",
    "        distance_thresh (float): distance cutoff to determine number of\n",
    "            neighboring wells to count.\n",
    "    \n",
    "    Returns:\n",
    "        clump (array): a flag array with the same dimensions as the first\n",
    "            dimension of the boreholes array. Flag is True for well being in\n",
    "            clump and false if well is not in a clump.\n",
    "    '''\n",
    "    clump = np.zeros(len(boreholes))\n",
    "    for i in range(len(boreholes)):\n",
    "        dx = np.zeros(len(boreholes))\n",
    "        for j in range(len(boreholes)):\n",
    "            if i==j:  # comparison to itself\n",
    "                dx[j]=np.nan\n",
    "            else:\n",
    "                dx[j] = distance(boreholes,i,j)\n",
    "        dx.sort()\n",
    "        clump[i] = (np.mean(dx[0:round(number)]) < distance_thresh)\n",
    "    return clump\n",
    "\n",
    "answer4 = int(sum(flag_clump(boreholes,answer1/5,answer3/4)))\n",
    "\n",
    "print(f'There are {answer4} wells that are considered in a clump.\\n')\n",
    "\n",
    "## Check\n",
    "questionNum = 4\n",
    "result = check_answer(questionNum,answer4)\n",
    "print(f'Your answer is {result.lower()}!')"
   ]
  },
  {
   "cell_type": "code",
   "execution_count": null,
   "metadata": {},
   "outputs": [],
   "source": []
  }
 ]
}