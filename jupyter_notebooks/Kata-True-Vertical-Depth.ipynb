{
 "metadata": {
  "language_info": {
   "codemirror_mode": {
    "name": "ipython",
    "version": 3
   },
   "file_extension": ".py",
   "mimetype": "text/x-python",
   "name": "python",
   "nbconvert_exporter": "python",
   "pygments_lexer": "ipython3",
   "version": "3.7.8-final"
  },
  "orig_nbformat": 2,
  "kernelspec": {
   "name": "Python 3.7.8 64-bit ('ds37': conda)",
   "display_name": "Python 3.7.8 64-bit ('ds37': conda)",
   "metadata": {
    "interpreter": {
     "hash": "81f757bfa8175e0659021efce9ae51ccc1fb88a34513dcf941671e7a1b97c05e"
    }
   }
  }
 },
 "nbformat": 4,
 "nbformat_minor": 2,
 "cells": [
  {
   "cell_type": "code",
   "execution_count": 1,
   "metadata": {},
   "outputs": [],
   "source": [
    "import requests\n",
    "from IPython.display import Markdown\n",
    "\n",
    "import numpy as np\n",
    "import pandas as pd\n",
    "import io"
   ]
  },
  {
   "source": [
    "**Warning!** This is a soultion. If you are looking to do these \n",
    "           [Agile Geosciences](https://agilescientific.com/blog/2020/4/16/geoscientist-challenge-thyself) \n",
    "           challenges on your own then please visit this\n",
    "           [Jupyter Notebook](https://colab.research.google.com/drive/1eP68NTV-GA3R-BYUh-CUxcgYDQ5IuetS)\n",
    "           to get started."
   ],
   "cell_type": "markdown",
   "metadata": {}
  },
  {
   "cell_type": "code",
   "execution_count": 2,
   "metadata": {},
   "outputs": [],
   "source": [
    "def get_data(url, key):\n",
    "    params = {'key':my_key}\n",
    "    r = requests.get(url, params)\n",
    "    return r.text\n",
    "\n",
    "def get_question(url):\n",
    "    r = requests.get(url)\n",
    "    return r.text\n",
    "\n",
    "def check_answer(questionNum,answer):\n",
    "    params = {'key':my_key,\n",
    "              'question':questionNum,\n",
    "              'answer':answer\n",
    "             }\n",
    "    result = requests.get(url, params)\n",
    "    return result.text"
   ]
  },
  {
   "source": [
    "## Request Challenge Description"
   ],
   "cell_type": "markdown",
   "metadata": {}
  },
  {
   "cell_type": "code",
   "execution_count": 3,
   "metadata": {},
   "outputs": [
    {
     "output_type": "execute_result",
     "data": {
      "text/plain": [
       "<IPython.core.display.Markdown object>"
      ],
      "text/markdown": "# True-vertical-depth\n\nWe have some well data. Some of the wells have deviated (non-vertical) sections. All well sections are straight; the corners are not rounded. Each well record is represented by 7 numbers:\n\n     x   y   d  k   i  a    t\n    123,654,24,450,12,254,1200\n    \nThese numbers are (_x_, _y_) of the surface location, the elevation of the datum _d_, the kick-off point _k_ (from the datum), the inclination _i_ and azimuth _a_ of the deviated section, and the total depth _t_ (measured along the hole from the datum).\n\nSome wells have an unknown datum, denoted by 'UNK'; you should ignore them.\n\nWe wish to know:\n\n1. What is the highest datum?\n2. What is the greatest offset distance reached, **to the nearest metre**? \n3. What is the greatest true vertical depth reached, **to the nearest metre**?\n4. At a TVDSS of -2000 m, how many wells have **an absolute _y_-offset** of more than 100 m?\n\nNote the following assumptions and definitions:\n\n- *Measured depth* is measured along the well path, starting at the top, and is always positive.\n- Elevations are positive above sea-level, and negative below sea-level.\n- *True vertical depth sub-sea*, or TVDSS, is the elevation along the well path.\n- The *offset distance* is the horizontal distance from the surface location to the bottomhole location.\n- The section of the well above the *kick-off point* is vertical.\n- A kick-off point of -999.25 indicates that there is no deviated section.\n- The 'deviated' section of the well below the kick-off point is straight but inclined at _i_ degrees off the vertical.\n- On a map, the deviated section of the well is oriented towards the direction _a_ degrees clockwise from North.\n\nThis diagram might help. Then again, it might not.\n\n<img src=\"https://kata.geosci.ai/static/tvd.svg\">\n\n\n## Example wells\n\nYour questions relate to the collection of wells. In this example, we'll look at just one well:\n\n    212,32,68,322,8,295,2630\n\n- The datum of this well is **68** m above sea-level.\n- The offset distance at the bottom of this well is about 321.21 m, or **321** to the nearest m.\n- The TVDSS at the bottom of this well is -2539.54 m, or **-2540** to the nearest m.\n- At a TVDSS of -2000 m, this well has a y-offset of 103.7 m and therefore would be counted for question 4.\n\nLet's look at another well.\n\n    416,232,89,-999.25,-999.25,-999.25,1989\n\n- The datum of this well is **89** m above sea-level.\n- The offset distance at the bottom of this well is **0** m; it is not deviated.\n- The TVDSS at the bottom of this well is **-1900** m.\n- This well does not reach -2000 m.\n\n\n## A quick reminder how this works\n\nYou can retrieve your data by choosing any Python string as a **`<KEY>`** and substituting here:\n\n    https://kata.geosci.ai/challenge/true-vertical-depth?key=<KEY>\n                                                             ^^^^^\n                                                             any old string you like\n\nTo answer question 1, make a request like:\n\n    https://kata.geosci.ai/challenge/true-vertical-depth?key=<KEY>&question=1&answer=123\n                                                             ^^^^^          ^        ^^^\n                                                             your key       Q        your answer\n\n[Complete instructions at kata.geosci.ai](https://kata.geosci.ai/challenge)\n\n----\n\n© 2020 Agile Scientific, licensed CC-BY\n"
     },
     "metadata": {},
     "execution_count": 3
    }
   ],
   "source": [
    "url = 'https://kata.geosci.ai/challenge/true-vertical-depth' \n",
    "r = get_question(url)\n",
    "\n",
    "Markdown(r)"
   ]
  },
  {
   "source": [
    "## My solution\n",
    "\n",
    "Let's enter a seed phrase and get the data."
   ],
   "cell_type": "markdown",
   "metadata": {}
  },
  {
   "cell_type": "code",
   "execution_count": 4,
   "metadata": {},
   "outputs": [
    {
     "output_type": "execute_result",
     "data": {
      "text/plain": [
       "'21053,35243,256,418,26,126,898\\n19970,10094,191,419,3,151,1550\\n24111,5960,256,442,20,113,2275\\n15233,35942,145,624,29,201,1178\\n15952,17874,100,444,14,173,1662\\n7064,10047,199,354,1,117,2261\\n21782,6773,189,541,8,266,2090\\n30249,10944,274,484,2,132,1378\\n26042,28846,212,540,2,19,1970\\n9065,12939,142,671,17,288,3195\\n17170,29056,148,522,6,56,1838\\n7887,10988,171,608,5,270,1399\\n21206,32834,246,581,26,166,1223'"
      ]
     },
     "metadata": {},
     "execution_count": 4
    }
   ],
   "source": [
    "my_key = 'armstrys'\n",
    "\n",
    "## Input\n",
    "r = get_data(url, my_key)\n",
    "\n",
    "r[:400]"
   ]
  },
  {
   "source": [
    "## Making the text meaningful\n",
    "The input text is relatively tame in this case. We can just pass the text through `io.StringIO` and into `pandas.read_csv`. We'll then eliminate some unknown and `NaN` values."
   ],
   "cell_type": "markdown",
   "metadata": {}
  },
  {
   "cell_type": "code",
   "execution_count": 5,
   "metadata": {},
   "outputs": [
    {
     "output_type": "execute_result",
     "data": {
      "text/plain": [
       "       X      Y  Datum  Kickoff  Inclination  Azimuth    MD\n",
       "0  21053  35243    256    418.0         26.0    126.0   898\n",
       "1  19970  10094    191    419.0          3.0    151.0  1550\n",
       "2  24111   5960    256    442.0         20.0    113.0  2275\n",
       "3  15233  35942    145    624.0         29.0    201.0  1178\n",
       "4  15952  17874    100    444.0         14.0    173.0  1662"
      ],
      "text/html": "<div>\n<style scoped>\n    .dataframe tbody tr th:only-of-type {\n        vertical-align: middle;\n    }\n\n    .dataframe tbody tr th {\n        vertical-align: top;\n    }\n\n    .dataframe thead th {\n        text-align: right;\n    }\n</style>\n<table border=\"1\" class=\"dataframe\">\n  <thead>\n    <tr style=\"text-align: right;\">\n      <th></th>\n      <th>X</th>\n      <th>Y</th>\n      <th>Datum</th>\n      <th>Kickoff</th>\n      <th>Inclination</th>\n      <th>Azimuth</th>\n      <th>MD</th>\n    </tr>\n  </thead>\n  <tbody>\n    <tr>\n      <th>0</th>\n      <td>21053</td>\n      <td>35243</td>\n      <td>256</td>\n      <td>418.0</td>\n      <td>26.0</td>\n      <td>126.0</td>\n      <td>898</td>\n    </tr>\n    <tr>\n      <th>1</th>\n      <td>19970</td>\n      <td>10094</td>\n      <td>191</td>\n      <td>419.0</td>\n      <td>3.0</td>\n      <td>151.0</td>\n      <td>1550</td>\n    </tr>\n    <tr>\n      <th>2</th>\n      <td>24111</td>\n      <td>5960</td>\n      <td>256</td>\n      <td>442.0</td>\n      <td>20.0</td>\n      <td>113.0</td>\n      <td>2275</td>\n    </tr>\n    <tr>\n      <th>3</th>\n      <td>15233</td>\n      <td>35942</td>\n      <td>145</td>\n      <td>624.0</td>\n      <td>29.0</td>\n      <td>201.0</td>\n      <td>1178</td>\n    </tr>\n    <tr>\n      <th>4</th>\n      <td>15952</td>\n      <td>17874</td>\n      <td>100</td>\n      <td>444.0</td>\n      <td>14.0</td>\n      <td>173.0</td>\n      <td>1662</td>\n    </tr>\n  </tbody>\n</table>\n</div>"
     },
     "metadata": {},
     "execution_count": 5
    }
   ],
   "source": [
    "cols = [\n",
    "        'X',\n",
    "        'Y',\n",
    "        'Datum',\n",
    "        'Kickoff',\n",
    "        'Inclination',\n",
    "        'Azimuth',\n",
    "        'MD'\n",
    "        ]\n",
    "\n",
    "data = pd.read_csv(io.StringIO(r),sep=',',names=cols, na_values=-999.25) #load text to pandas\n",
    "data = data[~(data['Datum'] == 'UNK')]\n",
    "data['Datum'] = data['Datum'].astype(int)\n",
    "data['Inclination'].fillna(0,inplace=True)\n",
    "data['Kickoff'].fillna(0,inplace=True)\n",
    "    \n",
    "data.head()"
   ]
  },
  {
   "source": [
    "## Question 1\n",
    "For question 1, all we need to do is find the max of our `Datum` column.'"
   ],
   "cell_type": "markdown",
   "metadata": {}
  },
  {
   "cell_type": "code",
   "execution_count": 7,
   "metadata": {},
   "outputs": [
    {
     "output_type": "stream",
     "name": "stdout",
     "text": [
      "The highest elevation well is at 333 m elevation.\n",
      "\n",
      "Your answer is correct!\n"
     ]
    }
   ],
   "source": [
    "answer1 = data['Datum'].max()\n",
    "\n",
    "print(f'The highest elevation well is at {answer1} m elevation.\\n')\n",
    "\n",
    "## Check\n",
    "questionNum = 1\n",
    "result = check_answer(questionNum,answer1)\n",
    "print(f'Your answer is {result.lower()}!')"
   ]
  },
  {
   "source": [
    "## Question 2\n",
    "The horizontal offset of each well can be calculated using simple trigonometry from the length of the deviated section of the well and the deviation inclination. Azimuth is irrelevant here since we are calculating radial offset."
   ],
   "cell_type": "markdown",
   "metadata": {}
  },
  {
   "cell_type": "code",
   "execution_count": 8,
   "metadata": {},
   "outputs": [
    {
     "output_type": "execute_result",
     "data": {
      "text/plain": [
       "     Kickoff    MD  Inclination    TD_Offset\n",
       "516    519.0  3523         26.0  1316.866925\n",
       "639    427.0  3200         28.0  1301.844644\n",
       "687    508.0  3147         29.0  1279.412588\n",
       "658    401.0  3192         27.0  1267.087485\n",
       "213    582.0  3268         28.0  1261.000618"
      ],
      "text/html": "<div>\n<style scoped>\n    .dataframe tbody tr th:only-of-type {\n        vertical-align: middle;\n    }\n\n    .dataframe tbody tr th {\n        vertical-align: top;\n    }\n\n    .dataframe thead th {\n        text-align: right;\n    }\n</style>\n<table border=\"1\" class=\"dataframe\">\n  <thead>\n    <tr style=\"text-align: right;\">\n      <th></th>\n      <th>Kickoff</th>\n      <th>MD</th>\n      <th>Inclination</th>\n      <th>TD_Offset</th>\n    </tr>\n  </thead>\n  <tbody>\n    <tr>\n      <th>516</th>\n      <td>519.0</td>\n      <td>3523</td>\n      <td>26.0</td>\n      <td>1316.866925</td>\n    </tr>\n    <tr>\n      <th>639</th>\n      <td>427.0</td>\n      <td>3200</td>\n      <td>28.0</td>\n      <td>1301.844644</td>\n    </tr>\n    <tr>\n      <th>687</th>\n      <td>508.0</td>\n      <td>3147</td>\n      <td>29.0</td>\n      <td>1279.412588</td>\n    </tr>\n    <tr>\n      <th>658</th>\n      <td>401.0</td>\n      <td>3192</td>\n      <td>27.0</td>\n      <td>1267.087485</td>\n    </tr>\n    <tr>\n      <th>213</th>\n      <td>582.0</td>\n      <td>3268</td>\n      <td>28.0</td>\n      <td>1261.000618</td>\n    </tr>\n  </tbody>\n</table>\n</div>"
     },
     "metadata": {},
     "execution_count": 8
    }
   ],
   "source": [
    "# length of lower section - possibly deviated\n",
    "lowerLength = data['MD'] - data['Kickoff']\n",
    "\n",
    "# calculating horizontal offset down to TD\n",
    "data['TD_Offset'] = np.sin(np.radians(data['Inclination'])) * lowerLength\n",
    "\n",
    "answer2 = round(data['TD_Offset'].max())\n",
    "\n",
    "data[['Kickoff','MD','Inclination','TD_Offset']].sort_values('TD_Offset', ascending=False).head()\n"
   ]
  },
  {
   "cell_type": "code",
   "execution_count": 9,
   "metadata": {},
   "outputs": [
    {
     "output_type": "stream",
     "name": "stdout",
     "text": [
      "The maximum offset is 1317 m.\n",
      "\n",
      "Your answer is correct!\n"
     ]
    }
   ],
   "source": [
    "print(f'The maximum offset is {answer2} m.\\n')\n",
    "\n",
    "## Check\n",
    "questionNum = 2\n",
    "result = check_answer(questionNum,answer2)\n",
    "print(f'Your answer is {result.lower()}!')"
   ]
  },
  {
   "source": [
    "## Question 3\n",
    "For question 3, we'll be calculating the total vertical depth (subsea). This calculation will be similar to the calcation for question 2, but will also need to take into account the datum of the well. The question asks for the offset at -2000 m subsea, but you can adjust the slider to see how things change."
   ],
   "cell_type": "markdown",
   "metadata": {}
  },
  {
   "cell_type": "code",
   "execution_count": 10,
   "metadata": {},
   "outputs": [
    {
     "output_type": "execute_result",
     "data": {
      "text/plain": [
       "     Datum  Kickoff    MD  Inclination        TVDSS\n",
       "100    227    608.0  3538          4.0 -3303.862667\n",
       "925    153    599.0  3637         20.0 -3300.786182\n",
       "452    116    391.0  3444          8.0 -3298.288414\n",
       "579    187    408.0  3459          7.0 -3249.258309\n",
       "720    153    653.0  3498         17.0 -3220.687031"
      ],
      "text/html": "<div>\n<style scoped>\n    .dataframe tbody tr th:only-of-type {\n        vertical-align: middle;\n    }\n\n    .dataframe tbody tr th {\n        vertical-align: top;\n    }\n\n    .dataframe thead th {\n        text-align: right;\n    }\n</style>\n<table border=\"1\" class=\"dataframe\">\n  <thead>\n    <tr style=\"text-align: right;\">\n      <th></th>\n      <th>Datum</th>\n      <th>Kickoff</th>\n      <th>MD</th>\n      <th>Inclination</th>\n      <th>TVDSS</th>\n    </tr>\n  </thead>\n  <tbody>\n    <tr>\n      <th>100</th>\n      <td>227</td>\n      <td>608.0</td>\n      <td>3538</td>\n      <td>4.0</td>\n      <td>-3303.862667</td>\n    </tr>\n    <tr>\n      <th>925</th>\n      <td>153</td>\n      <td>599.0</td>\n      <td>3637</td>\n      <td>20.0</td>\n      <td>-3300.786182</td>\n    </tr>\n    <tr>\n      <th>452</th>\n      <td>116</td>\n      <td>391.0</td>\n      <td>3444</td>\n      <td>8.0</td>\n      <td>-3298.288414</td>\n    </tr>\n    <tr>\n      <th>579</th>\n      <td>187</td>\n      <td>408.0</td>\n      <td>3459</td>\n      <td>7.0</td>\n      <td>-3249.258309</td>\n    </tr>\n    <tr>\n      <th>720</th>\n      <td>153</td>\n      <td>653.0</td>\n      <td>3498</td>\n      <td>17.0</td>\n      <td>-3220.687031</td>\n    </tr>\n  </tbody>\n</table>\n</div>"
     },
     "metadata": {},
     "execution_count": 10
    }
   ],
   "source": [
    "\n",
    "# length of lower section - possibly deviated\n",
    "lowerLength = data['MD'] - data['Kickoff']\n",
    "\n",
    "# use trig to calculate vertical component of deviation\n",
    "lowerVertical = np.cos(np.radians(data['Inclination'])) * lowerLength\n",
    "\n",
    "# add upper and lower sections of well and adjust for datum\n",
    "data['TVDSS'] = data['Datum'] - data['Kickoff'] - lowerVertical \n",
    "\n",
    "answer3 = round(data['TVDSS'].min())\n",
    "\n",
    "data[['Datum','Kickoff','MD','Inclination','TVDSS']].sort_values('TVDSS', ascending=True).head()\n"
   ]
  },
  {
   "cell_type": "code",
   "execution_count": 11,
   "metadata": {},
   "outputs": [
    {
     "output_type": "stream",
     "name": "stdout",
     "text": [
      "The largest total vertical depth is -3304 m.\n",
      "\n",
      "Your answer is correct!\n"
     ]
    }
   ],
   "source": [
    "print(f'The largest total vertical depth is {answer3} m.\\n')\n",
    "\n",
    "## Check\n",
    "questionNum = 3\n",
    "result = check_answer(questionNum,answer3)\n",
    "print(f'Your answer is {result.lower()}!')"
   ]
  },
  {
   "source": [
    "## Question 4\n",
    "We need to drop some wells. Wells that don't reach 2000 m tvdss won't be counted, and neither will wells that have no deviation. Null azimuths will break the function and we know those wells won't have a y-offset > 100 m anyway."
   ],
   "cell_type": "markdown",
   "metadata": {}
  },
  {
   "cell_type": "code",
   "execution_count": 12,
   "metadata": {},
   "outputs": [
    {
     "output_type": "execute_result",
     "data": {
      "text/plain": [
       "     Datum  Kickoff    MD  Inclination        TVDSS  YOffset2000\n",
       "410    227    345.0  2720         29.0 -2195.221804  1024.042936\n",
       "824    195    401.0  2607         29.0 -2135.411074   928.380793\n",
       "639    184    427.0  3200         28.0 -2691.413675   927.249986\n",
       "673    243    430.0  2841         27.0 -2335.216730   923.206904\n",
       "835    177    462.0  2654         29.0 -2202.166398   922.401952"
      ],
      "text/html": "<div>\n<style scoped>\n    .dataframe tbody tr th:only-of-type {\n        vertical-align: middle;\n    }\n\n    .dataframe tbody tr th {\n        vertical-align: top;\n    }\n\n    .dataframe thead th {\n        text-align: right;\n    }\n</style>\n<table border=\"1\" class=\"dataframe\">\n  <thead>\n    <tr style=\"text-align: right;\">\n      <th></th>\n      <th>Datum</th>\n      <th>Kickoff</th>\n      <th>MD</th>\n      <th>Inclination</th>\n      <th>TVDSS</th>\n      <th>YOffset2000</th>\n    </tr>\n  </thead>\n  <tbody>\n    <tr>\n      <th>410</th>\n      <td>227</td>\n      <td>345.0</td>\n      <td>2720</td>\n      <td>29.0</td>\n      <td>-2195.221804</td>\n      <td>1024.042936</td>\n    </tr>\n    <tr>\n      <th>824</th>\n      <td>195</td>\n      <td>401.0</td>\n      <td>2607</td>\n      <td>29.0</td>\n      <td>-2135.411074</td>\n      <td>928.380793</td>\n    </tr>\n    <tr>\n      <th>639</th>\n      <td>184</td>\n      <td>427.0</td>\n      <td>3200</td>\n      <td>28.0</td>\n      <td>-2691.413675</td>\n      <td>927.249986</td>\n    </tr>\n    <tr>\n      <th>673</th>\n      <td>243</td>\n      <td>430.0</td>\n      <td>2841</td>\n      <td>27.0</td>\n      <td>-2335.216730</td>\n      <td>923.206904</td>\n    </tr>\n    <tr>\n      <th>835</th>\n      <td>177</td>\n      <td>462.0</td>\n      <td>2654</td>\n      <td>29.0</td>\n      <td>-2202.166398</td>\n      <td>922.401952</td>\n    </tr>\n  </tbody>\n</table>\n</div>"
     },
     "metadata": {},
     "execution_count": 12
    }
   ],
   "source": [
    "sliceSS = -2000\n",
    "\n",
    "# Remove wells that don't hit the depth slice or don't kave a kickoff point above\n",
    "data_subset = data[data['TVDSS'] < sliceSS].dropna()\n",
    "mask_devAbove2000 = ~((data_subset['Datum'] - data_subset['Kickoff']) <= sliceSS)\n",
    "data_subset = (data_subset[mask_devAbove2000].dropna())\n",
    "\n",
    "# Calculate the Y offset between kickoff and depth slice!\n",
    "upperSectionSS = data_subset['Datum'] - data_subset['Kickoff']\n",
    "lowerVertical = upperSectionSS - sliceSS\n",
    "offset2000 = np.tan(np.radians(data_subset['Inclination'])) * lowerVertical\n",
    "data_subset['YOffset2000'] = np.abs(np.cos(np.radians(data_subset['Azimuth'])) * offset2000)\n",
    "\n",
    "answer4 = len(data_subset.loc[data_subset['YOffset2000']>100,'YOffset2000'])\n",
    "\n",
    "data_subset[['Datum','Kickoff','MD','Inclination','TVDSS','YOffset2000']].sort_values('YOffset2000', ascending=False).head()\n"
   ]
  },
  {
   "cell_type": "code",
   "execution_count": 13,
   "metadata": {},
   "outputs": [
    {
     "output_type": "stream",
     "name": "stdout",
     "text": [
      "There are 283 wells with y-offset greater than 100m at -2000 m depth.\n",
      "\n",
      "Your answer is correct! the next challenge is not ready yet. check this url again later.\n"
     ]
    }
   ],
   "source": [
    "print(f'There are {answer4} wells with y-offset greater than 100m at {sliceSS} m depth.\\n')\n",
    "\n",
    "## Check\n",
    "questionNum = 4\n",
    "result = check_answer(questionNum,answer4)\n",
    "print(f'Your answer is {result.lower()}')"
   ]
  },
  {
   "cell_type": "code",
   "execution_count": null,
   "metadata": {},
   "outputs": [],
   "source": []
  }
 ]
}