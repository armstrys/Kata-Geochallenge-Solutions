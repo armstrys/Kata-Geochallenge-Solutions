{
 "metadata": {
  "language_info": {
   "codemirror_mode": {
    "name": "ipython",
    "version": 3
   },
   "file_extension": ".py",
   "mimetype": "text/x-python",
   "name": "python",
   "nbconvert_exporter": "python",
   "pygments_lexer": "ipython3",
   "version": "3.7.8-final"
  },
  "orig_nbformat": 2,
  "kernelspec": {
   "name": "Python 3.7.8 64-bit ('ds37': conda)",
   "display_name": "Python 3.7.8 64-bit ('ds37': conda)",
   "metadata": {
    "interpreter": {
     "hash": "81f757bfa8175e0659021efce9ae51ccc1fb88a34513dcf941671e7a1b97c05e"
    }
   }
  }
 },
 "nbformat": 4,
 "nbformat_minor": 2,
 "cells": [
  {
   "cell_type": "code",
   "execution_count": 1,
   "metadata": {},
   "outputs": [],
   "source": [
    "import requests\n",
    "from IPython.display import Markdown\n",
    "\n",
    "import re\n",
    "import itertools"
   ]
  },
  {
   "source": [
    "**Warning!** This is a soultion. If you are looking to do these \n",
    "           [Agile Geosciences](https://agilescientific.com/blog/2020/4/16/geoscientist-challenge-thyself) \n",
    "           challenges on your own then please visit this\n",
    "           [Jupyter Notebook](https://colab.research.google.com/drive/1eP68NTV-GA3R-BYUh-CUxcgYDQ5IuetS)\n",
    "           to get started.\n",
    "\n",
    "\n",
    "## Functions for URL requests\n",
    "First a few functions to use along the way..."
   ],
   "cell_type": "markdown",
   "metadata": {}
  },
  {
   "cell_type": "code",
   "execution_count": 2,
   "metadata": {},
   "outputs": [],
   "source": [
    "def get_data(url, key):\n",
    "    params = {'key':my_key}\n",
    "    r = requests.get(url, params)\n",
    "    return r.text\n",
    "\n",
    "def get_question(url):\n",
    "    r = requests.get(url)\n",
    "    return r.text\n",
    "\n",
    "def check_answer(questionNum,answer):\n",
    "    params = {'key':my_key,\n",
    "              'question':questionNum,\n",
    "              'answer':answer\n",
    "             }\n",
    "    result = requests.get(url, params)\n",
    "    return Markdown(result.text)"
   ]
  },
  {
   "source": [
    "## Request Challenge Description"
   ],
   "cell_type": "markdown",
   "metadata": {}
  },
  {
   "cell_type": "code",
   "execution_count": 3,
   "metadata": {},
   "outputs": [
    {
     "output_type": "execute_result",
     "data": {
      "text/plain": [
       "<IPython.core.display.Markdown object>"
      ],
      "text/markdown": "# Sequence\n\nYou have a string of lithology codes, reading from the **bottom up** of a geological section. There is a sample every metre. There are three lithologies:\n\n- **M**udstone\n- **F**ine sandstone or siltstone\n- **S**andstone\n\nThe strings look like this:\n\n      ...MFFSSFSSSS...\n\nYour data, when you receive it, will be much longer than this.\n\nWe need to get some geological information from this string of codes. Specifically, you need to answer 3 questions:\n\n1. What is the total thickess in metres of sandstone (`S`)? Each sample represents one metre.\n2. How many sandstone beds are there? A bed is a contiguous group of one lithology, so `MMFFF` is 2 beds, one of `M` and one of `F`.\n3. How many times does the most common *upwards* bed transition occur? Do not include transitions from a lithology to itself.\n\nRemember that the sequence is given to you from the bottom up. So an upwards transition is equivalent to a transition to the right.\n\n\n## Example\n\nHere is some example input:\n\n      SSMMFFFFFFFFSSMFFSSFSSSSFMFSSSSFFSSFFFMM\n      ^^          ^^   ^^ ^^^^   ^^^^  ^^\n\nAnd the answers to the 3 questions:\n\n- In this example, the total thickess of sandstone is 16 m. So the required answer is: **16**\n- There are 6 sandstone beds in the sequence (marked above). The answer is: **6**\n- The most common bed transition is `F` to `S`, which occurs 5 times. So the answer is: **5**\n\n\n## A quick reminder how this works\n\nYou can retrieve your data by choosing any Python string as a **`<KEY>`** and substituting here:\n    \n    https://kata.geosci.ai/challenge/sequence?key=<KEY>\n                                                  ^^^^^\n                                                  use your own string here\n\nTo answer question 1, make a request like:\n\n    https://kata.geosci.ai/challenge/sequence?key=<KEY>&question=1&answer=1234\n                                                  ^^^^^          ^        ^^^^\n                                                  your key       Q        your answer\n\n[Complete instructions at kata.geosci.ai](https://kata.geosci.ai/challenge)\n\n----\n\n© 2020 Agile Scientific, licensed CC-BY"
     },
     "metadata": {},
     "execution_count": 3
    }
   ],
   "source": [
    "url = 'https://kata.geosci.ai/challenge/sequence' \n",
    "r = get_question(url)\n",
    "\n",
    "Markdown(r)"
   ]
  },
  {
   "source": [
    "## My solution\n",
    "\n",
    "Let's enter a seed phrase and get the data."
   ],
   "cell_type": "markdown",
   "metadata": {}
  },
  {
   "cell_type": "code",
   "execution_count": 4,
   "metadata": {},
   "outputs": [
    {
     "output_type": "execute_result",
     "data": {
      "text/plain": [
       "'FFSMMFFMMMMMMFFFMFFFFMMFFFFMMFSFFSMFFMFFFSSSFFFSMMMMFMFFFFFFSSFFFFFFSMMMMMMMFFFMMFSSMFSMFSFMMFFSFFSSFFMMMFFSMMMFSSFFFFFSSMMMMMMMFFFFFFFSMFFSSMMFFSMMMMMMMFMMSSSMMFFFSSSSSSSSSSSFFFMFFMFFSSFSSMFSSMMSSSSSFFFFFFSSMSSMMMSFFMMMMMFFFMMMMFSMFSFSSFFFFMMFFMFFFFSFFFSSSFFSSMSSSFFFMSMMMMMFFSMMMMFMFSMFFSSFMMFFFFFFMFFSSSSSMMFFFMFSSMMSMFMMMMMMFFFMMMFMFFFFSSSSMFFMMMMMFFFSSSSSFSSSMMFFMMMMMFSMMFFFFSFMMMFFSSSFFFFFSMMM'"
      ]
     },
     "metadata": {},
     "execution_count": 4
    }
   ],
   "source": [
    "my_key = 'armstrys'\n",
    "\n",
    "## Input\n",
    "r = get_data(url, my_key)\n",
    "\n",
    "r[:400]"
   ]
  },
  {
   "source": [
    "We should be able to do most of what we need directly with the string. No real processing needed yet."
   ],
   "cell_type": "markdown",
   "metadata": {}
  },
  {
   "cell_type": "code",
   "execution_count": 5,
   "metadata": {},
   "outputs": [],
   "source": [
    "sequence = r"
   ]
  },
  {
   "source": [
    "## Question 1\n",
    "We want to get the total thickess of the sandstone facies 'S'. Luckily, there is already a function for that. We just need to count the number of occurences and multiply by the sample rate, 1 meter. Use the select box to see the other facies thicknesses."
   ],
   "cell_type": "markdown",
   "metadata": {}
  },
  {
   "cell_type": "code",
   "execution_count": 9,
   "metadata": {},
   "outputs": [
    {
     "output_type": "execute_result",
     "data": {
      "text/plain": [
       "<IPython.core.display.Markdown object>"
      ],
      "text/markdown": "Total thickness of facies S is **5712** m.\n"
     },
     "metadata": {},
     "execution_count": 9
    }
   ],
   "source": [
    "## Facies to count thickness of\n",
    "lith_thick = 'S'\n",
    "\n",
    "## calculate thickness\n",
    "answer1 = sequence.count(lith_thick) #counting occurences in str\n",
    "\n",
    "Markdown(f'Total thickness of facies {lith_thick} is **{answer1}** m.\\n')\n"
   ]
  },
  {
   "cell_type": "code",
   "execution_count": 11,
   "metadata": {},
   "outputs": [
    {
     "output_type": "execute_result",
     "data": {
      "text/plain": [
       "<IPython.core.display.Markdown object>"
      ],
      "text/markdown": "Correct"
     },
     "metadata": {},
     "execution_count": 11
    }
   ],
   "source": [
    "## Check\n",
    "questionNum = 1\n",
    "check_answer(questionNum,answer1)"
   ]
  },
  {
   "source": [
    "## Question 2\n",
    "We want to count the total number of beds of a given facies, in this case, sandstone, 'S'. We can do this by using a regex pattern. Try playing around with the slider and select box to see how counts change."
   ],
   "cell_type": "markdown",
   "metadata": {}
  },
  {
   "cell_type": "code",
   "execution_count": 12,
   "metadata": {},
   "outputs": [
    {
     "output_type": "execute_result",
     "data": {
      "text/plain": [
       "<IPython.core.display.Markdown object>"
      ],
      "text/markdown": "There are **2290** beds of facies S with a sample threshold of 1.\n"
     },
     "metadata": {},
     "execution_count": 12
    }
   ],
   "source": [
    "thresh = 1\n",
    "lith_count = 'S'\n",
    "\n",
    "## find repeating occurences of lith and count\n",
    "regex_pattern = lith_count+'{'+str(thresh)+',}'\n",
    "answer2 = re.subn(regex_pattern,'',sequence)[1]\n",
    "\n",
    "print(f'There are {answer2} beds of facies {lith_count} with a sample threshold of {thresh}.\\n')\n",
    "\n",
    "## Check\n",
    "questionNum = 2\n",
    "result = check_answer(questionNum,answer2)\n",
    "print(f'Your answer is {result.lower()}!')"
   ]
  },
  {
   "cell_type": "code",
   "execution_count": 14,
   "metadata": {},
   "outputs": [
    {
     "output_type": "execute_result",
     "data": {
      "text/plain": [
       "<IPython.core.display.Markdown object>"
      ],
      "text/markdown": "Correct"
     },
     "metadata": {},
     "execution_count": 14
    }
   ],
   "source": [
    "## Check\n",
    "questionNum = 2\n",
    "check_answer(questionNum,answer2)\n"
   ]
  },
  {
   "source": [
    "## Question 3\n",
    "To calculate the most common facies transition, we will just create a dictionary to count all facies transitions and then take the maximum. We can iterate over all permutations of the facies list that we created earlier and use regex to flag all occurences of that facies change. For example, a sand to mud (`S` -> `M`) transition will find all occurences of `SM` in our sequence."
   ],
   "cell_type": "markdown",
   "metadata": {}
  },
  {
   "cell_type": "code",
   "execution_count": 24,
   "metadata": {},
   "outputs": [
    {
     "output_type": "stream",
     "name": "stdout",
     "text": [
      "Lithology transitions: {'SF': 979, 'SM': 1311, 'FS': 1910, 'FM': 1347, 'MS': 380, 'MF': 2277} \n\n"
     ]
    },
    {
     "output_type": "execute_result",
     "data": {
      "text/plain": [
       "<IPython.core.display.Markdown object>"
      ],
      "text/markdown": "The most common transision is MF and occurs **2277** times!\n"
     },
     "metadata": {},
     "execution_count": 24
    }
   ],
   "source": [
    "facies = list(set(sequence))\n",
    "\n",
    "transition_dict = {}\n",
    "for transition in itertools.permutations(facies,2):\n",
    "    regex_pattern = ''.join(transition)\n",
    "    transition_dict[regex_pattern] = re.subn(regex_pattern,'',sequence)[1]\n",
    "\n",
    "answer3 = max(transition_dict.values())\n",
    "answer3ID = max(transition_dict.keys(), key=(lambda k: transition_dict[k]))\n",
    "\n",
    "print('Lithology transitions:',transition_dict,'\\n')\n",
    "Markdown(f'The most common transision is {answer3ID} and occurs **{answer3}** times!\\n')\n"
   ]
  },
  {
   "cell_type": "code",
   "execution_count": 26,
   "metadata": {},
   "outputs": [
    {
     "output_type": "execute_result",
     "data": {
      "text/plain": [
       "<IPython.core.display.Markdown object>"
      ],
      "text/markdown": "Correct! The next challenge is: https://kata.geosci.ai/challenge/boreholes - good luck!"
     },
     "metadata": {},
     "execution_count": 26
    }
   ],
   "source": [
    "## Check\n",
    "questionNum = 3\n",
    "check_answer(questionNum,answer3)"
   ]
  }
 ]
}